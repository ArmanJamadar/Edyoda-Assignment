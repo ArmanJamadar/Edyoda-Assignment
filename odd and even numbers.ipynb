{
 "cells": [
  {
   "cell_type": "code",
   "execution_count": 7,
   "id": "57f3e936",
   "metadata": {},
   "outputs": [
    {
     "name": "stdout",
     "output_type": "stream",
     "text": [
      "Number of Even Numbers:  4\n",
      "Number of Odd Numbers:  5\n"
     ]
    }
   ],
   "source": [
    "numbers = (1, 2, 3, 4, 5, 6, 7, 8, 9) \n",
    "evencnt,oddcnt=0,0\n",
    "for i in numbers:\n",
    "    if(i%2==0):\n",
    "        evencnt+=1\n",
    "    elif(i%2!=0):\n",
    "        oddcnt+=1\n",
    "print(\"Number of Even Numbers: \",evencnt)\n",
    "print(\"Number of Odd Numbers: \",oddcnt)"
   ]
  },
  {
   "cell_type": "code",
   "execution_count": 8,
   "id": "6b0dad0c",
   "metadata": {},
   "outputs": [
    {
     "name": "stdout",
     "output_type": "stream",
     "text": [
      "False\n"
     ]
    }
   ],
   "source": [
    "print(1%2==)"
   ]
  },
  {
   "cell_type": "code",
   "execution_count": null,
   "id": "c9728467",
   "metadata": {},
   "outputs": [],
   "source": []
  }
 ],
 "metadata": {
  "kernelspec": {
   "display_name": "Python 3 (ipykernel)",
   "language": "python",
   "name": "python3"
  },
  "language_info": {
   "codemirror_mode": {
    "name": "ipython",
    "version": 3
   },
   "file_extension": ".py",
   "mimetype": "text/x-python",
   "name": "python",
   "nbconvert_exporter": "python",
   "pygments_lexer": "ipython3",
   "version": "3.10.2"
  }
 },
 "nbformat": 4,
 "nbformat_minor": 5
}
