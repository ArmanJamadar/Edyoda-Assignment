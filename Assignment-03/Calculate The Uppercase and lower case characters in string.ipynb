{
 "cells": [
  {
   "cell_type": "code",
   "execution_count": 8,
   "id": "4e8138cd",
   "metadata": {},
   "outputs": [
    {
     "name": "stdout",
     "output_type": "stream",
     "text": [
      "Enter stringARman\n",
      "(2, 3)\n",
      "Upper characters= 2\n",
      "lower characters= 3\n"
     ]
    }
   ],
   "source": [
    "def calchar(s):\n",
    "    ucnt=0\n",
    "    lcnt=0\n",
    "    for i in s:\n",
    "        if i.isupper():\n",
    "            ucnt+=1\n",
    "        elif i.islower():\n",
    "            lcnt+=1\n",
    "    return ucnt,lcnt\n",
    "\n",
    "a=calchar(input(\"Enter string\"))\n",
    "print(a)\n",
    "print(\"Upper characters=\",a[0])\n",
    "print(\"lower characters=\",a[1])"
   ]
  },
  {
   "cell_type": "code",
   "execution_count": null,
   "id": "a7c8ab5b",
   "metadata": {},
   "outputs": [],
   "source": []
  },
  {
   "cell_type": "code",
   "execution_count": null,
   "id": "45c16160",
   "metadata": {},
   "outputs": [],
   "source": []
  }
 ],
 "metadata": {
  "kernelspec": {
   "display_name": "Python 3 (ipykernel)",
   "language": "python",
   "name": "python3"
  },
  "language_info": {
   "codemirror_mode": {
    "name": "ipython",
    "version": 3
   },
   "file_extension": ".py",
   "mimetype": "text/x-python",
   "name": "python",
   "nbconvert_exporter": "python",
   "pygments_lexer": "ipython3",
   "version": "3.10.2"
  }
 },
 "nbformat": 4,
 "nbformat_minor": 5
}
