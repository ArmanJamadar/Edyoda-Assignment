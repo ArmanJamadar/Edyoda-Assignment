{
 "cells": [
  {
   "cell_type": "code",
   "execution_count": 6,
   "id": "e4dc314d",
   "metadata": {},
   "outputs": [
    {
     "name": "stdout",
     "output_type": "stream",
     "text": [
      "lenght of list4\n",
      "10\n",
      "10\n",
      "10\n",
      "10\n",
      "sum of all numbers = 40\n"
     ]
    }
   ],
   "source": [
    "def addele(par):\n",
    "    l=list(par)\n",
    "    count=0\n",
    "    for i in l:\n",
    "        count+=i\n",
    "    return count\n",
    "\n",
    "a=int(input(\"lenght of list\"))\n",
    "b=[]\n",
    "for i in range(a):\n",
    "    b.append(int(input()))\n",
    "    \n",
    "print(\"sum of all numbers =\",addele(b))\n",
    "    "
   ]
  },
  {
   "cell_type": "code",
   "execution_count": null,
   "id": "283af944",
   "metadata": {},
   "outputs": [],
   "source": []
  }
 ],
 "metadata": {
  "kernelspec": {
   "display_name": "Python 3 (ipykernel)",
   "language": "python",
   "name": "python3"
  },
  "language_info": {
   "codemirror_mode": {
    "name": "ipython",
    "version": 3
   },
   "file_extension": ".py",
   "mimetype": "text/x-python",
   "name": "python",
   "nbconvert_exporter": "python",
   "pygments_lexer": "ipython3",
   "version": "3.10.2"
  }
 },
 "nbformat": 4,
 "nbformat_minor": 5
}
