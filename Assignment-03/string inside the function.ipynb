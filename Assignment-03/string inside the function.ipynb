{
 "cells": [
  {
   "cell_type": "code",
   "execution_count": 14,
   "id": "2368346b",
   "metadata": {},
   "outputs": [
    {
     "name": "stdout",
     "output_type": "stream",
     "text": [
      "Enter string you want to reverse=walaw\n",
      "walaw"
     ]
    }
   ],
   "source": [
    "def reversestring(s):\n",
    "    b=len(s)\n",
    "    st=\"\"\n",
    "    for i in range(b-1,-1,-1):\n",
    "        print(s[i],end='')\n",
    "        \n",
    "reversestring(input(\"Enter string you want to reverse=\"))"
   ]
  },
  {
   "cell_type": "code",
   "execution_count": 16,
   "id": "ed24b4ab",
   "metadata": {},
   "outputs": [
    {
     "name": "stdout",
     "output_type": "stream",
     "text": [
      "enter string to reversearman\n"
     ]
    },
    {
     "data": {
      "text/plain": [
       "'namra'"
      ]
     },
     "execution_count": 16,
     "metadata": {},
     "output_type": "execute_result"
    }
   ],
   "source": [
    "def revstr(s):\n",
    "    return s[::-1]\n",
    "\n",
    "revstr(input(\"enter string to reverse\"))"
   ]
  },
  {
   "cell_type": "code",
   "execution_count": null,
   "id": "53669399",
   "metadata": {},
   "outputs": [],
   "source": []
  }
 ],
 "metadata": {
  "kernelspec": {
   "display_name": "Python 3 (ipykernel)",
   "language": "python",
   "name": "python3"
  },
  "language_info": {
   "codemirror_mode": {
    "name": "ipython",
    "version": 3
   },
   "file_extension": ".py",
   "mimetype": "text/x-python",
   "name": "python",
   "nbconvert_exporter": "python",
   "pygments_lexer": "ipython3",
   "version": "3.10.2"
  }
 },
 "nbformat": 4,
 "nbformat_minor": 5
}
