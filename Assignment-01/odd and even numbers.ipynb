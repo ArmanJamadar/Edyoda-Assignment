{
 "cells": [
  {
   "cell_type": "code",
   "execution_count": 4,
   "id": "d00beca8",
   "metadata": {},
   "outputs": [
    {
     "name": "stdout",
     "output_type": "stream",
     "text": [
      "Number of Even Numbers:  4\n",
      "Number of Odd Numbers:  5\n"
     ]
    }
   ],
   "source": [
    "numbers = (1, 2, 3, 4, 5, 6, 7, 8, 9) \n",
    "evencnt,oddcnt=0,0\n",
    "for i in numbers:\n",
    "    if(i%2==0):\n",
    "        evencnt+=1\n",
    "    else:\n",
    "        oddcnt+=1\n",
    "print(\"Number of Even Numbers: \",evencnt)\n",
    "print(\"Number of Odd Numbers: \",oddcnt)"
   ]
  },
  {
   "cell_type": "code",
   "execution_count": 3,
   "id": "ad0506d0",
   "metadata": {},
   "outputs": [
    {
     "name": "stdout",
     "output_type": "stream",
     "text": [
      "Number of Even Numbers:  5\n",
      "Number of Odd Numbers:  4\n"
     ]
    }
   ],
   "source": [
    "numbers = (1, 2, 3, 4, 5, 6, 7, 8, 9) \n",
    "evencnt,oddcnt=0,0\n",
    "for i in numbers:\n",
    "    if(i%2==0):\n",
    "        evencnt+=1\n",
    "    else:\n",
    "        oddcnt+=1\n",
    "print(\"Number of Even Numbers: \",oddcnt)\n",
    "print(\"Number of Odd Numbers: \",evencnt)"
   ]
  },
  {
   "cell_type": "code",
   "execution_count": null,
   "id": "634d6187",
   "metadata": {},
   "outputs": [],
   "source": []
  }
 ],
 "metadata": {
  "kernelspec": {
   "display_name": "Python 3 (ipykernel)",
   "language": "python",
   "name": "python3"
  },
  "language_info": {
   "codemirror_mode": {
    "name": "ipython",
    "version": 3
   },
   "file_extension": ".py",
   "mimetype": "text/x-python",
   "name": "python",
   "nbconvert_exporter": "python",
   "pygments_lexer": "ipython3",
   "version": "3.10.2"
  }
 },
 "nbformat": 4,
 "nbformat_minor": 5
}
