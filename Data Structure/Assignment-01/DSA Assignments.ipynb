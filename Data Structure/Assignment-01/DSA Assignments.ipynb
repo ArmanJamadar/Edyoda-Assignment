{
 "cells": [
  {
   "cell_type": "code",
   "execution_count": 19,
   "id": "f3a8a135",
   "metadata": {},
   "outputs": [
    {
     "data": {
      "text/plain": [
       "[(1, 5), (7, -1)]"
      ]
     },
     "execution_count": 19,
     "metadata": {},
     "output_type": "execute_result"
    }
   ],
   "source": [
    "#Q1. Write a program to find all pairs of an integer array whose sum is equal to a given number?\n",
    "\n",
    "\n",
    "def getpaircount(arr,sum1):\n",
    "    n=len(arr)\n",
    "    l=[]\n",
    "    for i in range(0,n):\n",
    "        for j in range(i+1,n):\n",
    "            if arr[i]+arr[j]==sum1:\n",
    "                l.append((arr[i],arr[j]))\n",
    "                \n",
    "    return l\n",
    "\n",
    "l=[1,5,7,-1]\n",
    "sum=6\n",
    "getpaircount(l,sum)     "
   ]
  },
  {
   "cell_type": "code",
   "execution_count": 60,
   "id": "4fedd1f3",
   "metadata": {},
   "outputs": [
    {
     "name": "stdout",
     "output_type": "stream",
     "text": [
      "[5, 4, 3, 2, 1]\n"
     ]
    }
   ],
   "source": [
    "#Q2.Write a program to reverse an array in place? In place means you cannot create a new array. You have to update the original array.\n",
    "\n",
    "def rev(arr):\n",
    "    for i in range(len(arr)//2):\n",
    "        arr[i],arr[-i-1]=arr[-i-1],arr[i]\n",
    "        \n",
    "arr=[1,2,3,4,5]\n",
    "rev(arr)\n",
    "print(arr)"
   ]
  },
  {
   "cell_type": "code",
   "execution_count": 66,
   "id": "7e4c24b7",
   "metadata": {},
   "outputs": [
    {
     "data": {
      "text/plain": [
       "True"
      ]
     },
     "execution_count": 66,
     "metadata": {},
     "output_type": "execute_result"
    }
   ],
   "source": [
    "#3Write a program to check if two strings are a rotation of each other?\n",
    "def check_rotation_string(str1,str2):\n",
    "    a=list(str2)\n",
    "    b=''.join(a[::-1])\n",
    "    if str1==b:\n",
    "        return True\n",
    "    else:\n",
    "        return False\n",
    "    \n",
    "\n",
    "check_rotation_string('Edyoda','adoydE')\n",
    "\n",
    "\n"
   ]
  },
  {
   "cell_type": "code",
   "execution_count": 93,
   "id": "0dd62a02",
   "metadata": {},
   "outputs": [
    {
     "data": {
      "text/plain": [
       "'v'"
      ]
     },
     "execution_count": 93,
     "metadata": {},
     "output_type": "execute_result"
    }
   ],
   "source": [
    "#4Write a program to print the first non-repeated character from a string?\n",
    "from collections import Counter\n",
    "def checkuniquechar(str1):\n",
    "    str1=str1.lower()\n",
    "    a=dict(Counter(str1))\n",
    "    b=''\n",
    "    for i in a:\n",
    "        if a.get(i)==1:\n",
    "            b=i\n",
    "            break\n",
    "    return b\n",
    "        \n",
    "checkuniquechar('Vick')  "
   ]
  },
  {
   "cell_type": "code",
   "execution_count": 11,
   "id": "a59370f2",
   "metadata": {
    "scrolled": true
   },
   "outputs": [
    {
     "name": "stdout",
     "output_type": "stream",
     "text": [
      "[3, 2, 1] [] []\n",
      "[3, 2] [] [1]\n",
      "[3] [2] [1]\n",
      "[3] [2, 1] []\n",
      "[] [2, 1] [3]\n",
      "[1] [2] [3]\n",
      "[1] [] [3, 2]\n",
      "[] [] [3, 2, 1]\n",
      "7\n"
     ]
    }
   ],
   "source": [
    "#5 Read about the Tower of Hanoi algorithm. Write a program to implement it.\n",
    "def hanoi(n, P1, P2, P3):\n",
    "\n",
    "    if n == 0:\n",
    "        return\n",
    "    global count\n",
    "    count += 1\n",
    "\n",
    "    hanoi(n-1, P1, P3, P2)\n",
    "\n",
    "    if P1:\n",
    "        P3.append(P1.pop())\n",
    "        print(A, B, C)\n",
    "\n",
    "    hanoi(n-1, P2, P1, P3)\n",
    "n = 3\n",
    "A = list(range(n,0,-1))\n",
    "B, C = [], []\n",
    "print(A, B, C)\n",
    "count = 0\n",
    "hanoi(n, A, B, C)\n",
    "print(count)"
   ]
  },
  {
   "cell_type": "code",
   "execution_count": 19,
   "id": "53b472e0",
   "metadata": {},
   "outputs": [
    {
     "data": {
      "text/plain": [
       "'*+AB-CD'"
      ]
     },
     "execution_count": 19,
     "metadata": {},
     "output_type": "execute_result"
    }
   ],
   "source": [
    "#6Read about infix, prefix, and postfix expressions. Write a program to convert postfix to prefix expression.\n",
    "def convertpre(postfix):\n",
    "    s=[]\n",
    "    oprator={'+','-','/','*'}\n",
    "    for i in range(len(postfix)):\n",
    "        if postfix[i] in oprator:\n",
    "            op1=s[-1]\n",
    "            s.pop()\n",
    "            op2=s[-1]\n",
    "            s.pop()\n",
    "            temp=postfix[i]+op2+op1\n",
    "            s.append(temp)\n",
    "        else:\n",
    "            s.append(postfix[i])\n",
    "            \n",
    "    ans=''.join(s)\n",
    "    return ans\n",
    "   \n",
    "    \n",
    "postfix='AB+CD-*'\n",
    "convertpre(postfix)"
   ]
  },
  {
   "cell_type": "code",
   "execution_count": 34,
   "id": "09299919",
   "metadata": {},
   "outputs": [
    {
     "data": {
      "text/plain": [
       "'((A+B)*(C-D))'"
      ]
     },
     "execution_count": 34,
     "metadata": {},
     "output_type": "execute_result"
    }
   ],
   "source": [
    "#7Write a program to convert prefix expression to infix expression.\n",
    "def convertinfix(prefix):\n",
    "    s=[]\n",
    "    oprator={'+','-','/','*'}\n",
    "    for i in range(len(prefix)-1,-1,-1):\n",
    "        if prefix[i] not in oprator:\n",
    "            s.append(prefix[i])  \n",
    "        else:\n",
    "            result='('+s.pop()+prefix[i]+s.pop()+')'\n",
    "            s.append(result)\n",
    "    return s.pop()\n",
    "           \n",
    "    print(s)\n",
    "\n",
    "prefix='*+AB-CD'\n",
    "convertinfix(prefix)"
   ]
  },
  {
   "cell_type": "code",
   "execution_count": 87,
   "id": "cffa9700",
   "metadata": {},
   "outputs": [
    {
     "data": {
      "text/plain": [
       "True"
      ]
     },
     "execution_count": 87,
     "metadata": {},
     "output_type": "execute_result"
    }
   ],
   "source": [
    "#Q8. Write a program to check if all the brackets are closed in a given code snippet.\n",
    "\n",
    "def checkbrackets(string):\n",
    "    s=[]\n",
    "    a={')','}',']'}\n",
    "    b={'(','{','['}\n",
    "    \n",
    "    for i in (string):\n",
    "        if i in b:\n",
    "            s.append(i)\n",
    "        elif i in a:\n",
    "            if len(s)==0:\n",
    "                return False\n",
    "            else:\n",
    "                s.pop()\n",
    "            \n",
    "    if len(s)==0:\n",
    "        return True\n",
    "    else: \n",
    "        return False   \n",
    "    \n",
    "checkbrackets('{}')"
   ]
  },
  {
   "cell_type": "code",
   "execution_count": 111,
   "id": "0a9b4942",
   "metadata": {},
   "outputs": [
    {
     "name": "stdout",
     "output_type": "stream",
     "text": [
      "10 5 3 \n",
      "3 5 10 "
     ]
    }
   ],
   "source": [
    "#Q9. Write a program to reverse a stack.\n",
    "class Stack:\n",
    "    def __init__(self,limit):\n",
    "        self.limit=limit\n",
    "        self.elements=[]\n",
    "        \n",
    "    def push(self,number):\n",
    "        if len(self.elements)==self.limit:\n",
    "            print(\"stack is full\")\n",
    "        else:\n",
    "            self.elements.append(number)\n",
    "            \n",
    "    def pop(self):\n",
    "        if len(self.elements)==0:\n",
    "            print(\"Stack is empty\")\n",
    "        else:\n",
    "            print(f\"{self.elements[-1]} remove from stack\")\n",
    "            self.elements.pop()\n",
    "            \n",
    "    def peek(self):\n",
    "        if len(self.elements)==0:\n",
    "            print(\"Stack is empty\")\n",
    "        else:\n",
    "            print(self.elements[-1])\n",
    "            return self.elements[-1]\n",
    "            \n",
    "    def isfull(self):\n",
    "        if len(self.elements)==self.limit:\n",
    "            return True\n",
    "        else:\n",
    "            return False\n",
    "        \n",
    "    def isEmpty(self):\n",
    "        if len(self.elements)==0:\n",
    "            return True\n",
    "        else:\n",
    "            return False\n",
    "        \n",
    "    def delete(self):\n",
    "        self.elements=[]\n",
    "        \n",
    "    def print(self):\n",
    "        for i in self.elements:\n",
    "            print(i,end=\" \")\n",
    "    def reverse(self):\n",
    "        self.elements=self.elements[::-1]\n",
    "        \n",
    "            \n",
    "object1=Stack(10)\n",
    "object1.push(10)\n",
    "object1.push(5)\n",
    "object1.push(3)\n",
    "object1.print()\n",
    "object1.reverse() #function to reverse stack\n",
    "print()\n",
    "object1.print()"
   ]
  },
  {
   "cell_type": "code",
   "execution_count": 110,
   "id": "010d7cf2",
   "metadata": {},
   "outputs": [
    {
     "name": "stdout",
     "output_type": "stream",
     "text": [
      "10 5 3 "
     ]
    },
    {
     "data": {
      "text/plain": [
       "3"
      ]
     },
     "execution_count": 110,
     "metadata": {},
     "output_type": "execute_result"
    }
   ],
   "source": [
    "#Q10. Write a program to find the smallest number using a stack.\n",
    "class Stack:\n",
    "    def __init__(self,limit):\n",
    "        self.limit=limit\n",
    "        self.elements=[]\n",
    "        \n",
    "    def push(self,number):\n",
    "        if len(self.elements)==self.limit:\n",
    "            print(\"stack is full\")\n",
    "        else:\n",
    "            self.elements.append(number)\n",
    "            \n",
    "    def pop(self):\n",
    "        if len(self.elements)==0:\n",
    "            print(\"Stack is empty\")\n",
    "        else:\n",
    "            print(f\"{self.elements[-1]} remove from stack\")\n",
    "            self.elements.pop()\n",
    "            \n",
    "    def peek(self):\n",
    "        if len(self.elements)==0:\n",
    "            print(\"Stack is empty\")\n",
    "        else:\n",
    "            print(self.elements[-1])\n",
    "            return self.elements[-1]\n",
    "            \n",
    "    def isfull(self):\n",
    "        if len(self.elements)==self.limit:\n",
    "            return True\n",
    "        else:\n",
    "            return False\n",
    "        \n",
    "    def isEmpty(self):\n",
    "        if len(self.elements)==0:\n",
    "            return True\n",
    "        else:\n",
    "            return False\n",
    "        \n",
    "    def delete(self):\n",
    "        self.elements=[]\n",
    "        \n",
    "    def print(self):\n",
    "        for i in self.elements:\n",
    "            print(i,end=\" \")\n",
    "    def reverse(self):\n",
    "        self.elements=self.elements[::-1]\n",
    "        \n",
    "    def getmin(self):\n",
    "        return min(self.elements)\n",
    "    \n",
    "object1=Stack(10)\n",
    "object1.push(10)\n",
    "object1.push(5)\n",
    "object1.push(3)\n",
    "object1.print()\n",
    "object1.getmin() #function to get minimum value from stack"
   ]
  },
  {
   "cell_type": "code",
   "execution_count": null,
   "id": "9295f8db",
   "metadata": {},
   "outputs": [],
   "source": []
  },
  {
   "cell_type": "code",
   "execution_count": 100,
   "id": "d1396a5d",
   "metadata": {},
   "outputs": [
    {
     "name": "stdout",
     "output_type": "stream",
     "text": [
      "2 5 6 10 "
     ]
    }
   ],
   "source": []
  },
  {
   "cell_type": "code",
   "execution_count": 99,
   "id": "d76cbd78",
   "metadata": {},
   "outputs": [],
   "source": []
  },
  {
   "cell_type": "code",
   "execution_count": null,
   "id": "fe0755e1",
   "metadata": {},
   "outputs": [],
   "source": []
  }
 ],
 "metadata": {
  "kernelspec": {
   "display_name": "Python 3 (ipykernel)",
   "language": "python",
   "name": "python3"
  },
  "language_info": {
   "codemirror_mode": {
    "name": "ipython",
    "version": 3
   },
   "file_extension": ".py",
   "mimetype": "text/x-python",
   "name": "python",
   "nbconvert_exporter": "python",
   "pygments_lexer": "ipython3",
   "version": "3.10.2"
  }
 },
 "nbformat": 4,
 "nbformat_minor": 5
}
